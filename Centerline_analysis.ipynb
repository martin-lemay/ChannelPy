{
 "cells": [
  {
   "cell_type": "markdown",
   "metadata": {},
   "source": [
    "# Centerline analysis"
   ]
  },
  {
   "cell_type": "markdown",
   "metadata": {},
   "source": [
    "This code compute sinuous channel geomorphic parameters including meander wavelength, amplitude, and sinuosity, according to Leopold and Wolman (1957) methodology (see also Lemay et al., 2020)."
   ]
  },
  {
   "cell_type": "markdown",
   "metadata": {},
   "source": [
    "##### Author: \n",
    "Martin LEMAY\n",
    "\n",
    "martin.lemay@mines-paris.org"
   ]
  },
  {
   "cell_type": "markdown",
   "metadata": {},
   "source": [
    "#### Python modules import"
   ]
  },
  {
   "cell_type": "code",
   "execution_count": null,
   "metadata": {
    "collapsed": true
   },
   "outputs": [],
   "source": [
    "import sys\n",
    "import numpy as np\n",
    "import pandas as pd\n",
    "import matplotlib.pyplot as plt\n",
    "import channelpy as cp"
   ]
  },
  {
   "cell_type": "markdown",
   "metadata": {},
   "source": [
    "#### Input parameters"
   ]
  },
  {
   "cell_type": "code",
   "execution_count": null,
   "metadata": {
    "collapsed": true
   },
   "outputs": [],
   "source": [
    "working_dir = \"C:/Users/.../working_dir/\" # directory of input and outputs files\n",
    "input_file_name = \"Channel_y_H1.csv\" #\"data.csv\" # centerline data file name - .csv file\n",
    "output_file_name = input_file_name[:-4] + \"_morphometry.csv\" # morphometry measurements results file name\n",
    "delimiter = ';' # column delimiter used in the input and output files\n",
    "flip = False # to flip data if upstream and downstream end are reversed in the input file\n",
    "\n",
    "# *** Channel centerline analysis parameters ***\n",
    "smooth_distance = 1000 # [m] smoothing window applied when smoothing centerline path and curvatures (usually around twice channel width)\n",
    "spacing = 50 # [m] spacing between channel points after resampling\n",
    "nb = 3 # number of points among those with the highest curvatures to choose the apex - 1 means that the apex is the highest curvature point\n",
    "\n",
    "# channel dimension parameters used to fit computation windows \n",
    "width = 200# [m] -99999 # channel width; if -99999, use the default width of 800 m is taken (corresponding to median values of turbidites channels - see Lemay et al., 2020)\n",
    "depth = 15 # [m] -99999 # channel mean bankfull depth; if -99999, use the default depth of 27 m is taken (corresponding to median values of turbidites channels - see Lemay et al., 2020)\n",
    "factor = 5 # estimated wavelength to width ratio; 5 is the median ratio for turbidites channels - see Lemay et al. (2020)\n",
    "sinuo_thres = 1.05 # minimum sinuosity allowed to define meanders\n"
   ]
  },
  {
   "cell_type": "markdown",
   "metadata": {},
   "source": [
    "#### Computation script"
   ]
  },
  {
   "cell_type": "markdown",
   "metadata": {},
   "source": [
    "Compute channel geomorphic parameters according to the following methodology (see Lemay et al., 2020):  \n",
    "\n",
    "1 resample centerline points; \n",
    "\n",
    "2 smooth centerline path; \n",
    "\n",
    "3 compute and smooth curvatures; \n",
    "\n",
    "4 compute inflection and apex points and define bends; \n",
    "\n",
    "5 compute bend geometric parameters"
   ]
  },
  {
   "cell_type": "code",
   "execution_count": null,
   "metadata": {
    "collapsed": true,
    "scrolled": true
   },
   "outputs": [],
   "source": [
    "lag = int((smooth_distance/spacing) / 1.8) # minimum lag between 2 consecutive inflection points\n",
    "\n",
    "if width == -99999:\n",
    "    print('WARNING: no data for the width')\n",
    "    width = 800 # default value\n",
    "if depth == -99999:\n",
    "    print('WARNING: no data for the depth')\n",
    "    depth = 27 # default value\n",
    "\n",
    "# data loading from csv file   \n",
    "if input_file_name[-3:] != \"csv\":\n",
    "    sys.exit(\"ERROR: file format %s not managed\"%(input_file_name[-3:]))\n",
    "    \n",
    "X, Y = np.loadtxt(working_dir + input_file_name, delimiter=';', skiprows=1, unpack=True)\n",
    "Z = np.zeros_like(X)\n",
    "\n",
    "# flip data\n",
    "if flip:\n",
    "    X = np.flip(X, 0)\n",
    "    Y = np.flip(Y, 0)\n",
    "    Z = np.flip(Z, 0)\n",
    "\n",
    "data = create_dataset_from_xyz(X, Y, Z)\n",
    "\n",
    "# centerline object and meanders definition\n",
    "centerline = cp.Centerline(0, data, spacing, smooth_distance, lag, nb, sinuo_thres,\n",
    "                                   plot_curvature=False)\n",
    "\n",
    "# compute average meander geomorphic parameters according to window_size\n",
    "window_size = factor*width\n",
    "mean_values = centerline.morphometry(window_size)\n",
    "\n",
    "# save results\n",
    "centerline.save_morphometry_results(working_dir + output_file_name, delimiter)\n",
    "\n",
    "print()\n",
    "print(input_file_name)\n",
    "print()\n",
    "print(\"System-averaged meander geometry\")\n",
    "print(mean_values)\n",
    "print()\n",
    "\n",
    "print(\"Window-averaged meander geometry\")\n",
    "for bend in centerline.bends:    \n",
    "    print(\"  Bend:\", bend.id)\n",
    "    print(\"  Sinuosity\", bend.params_averaged[\"Sinuosity\"][0])\n",
    "    print(\"  Amplitude_Leopold\", bend.params_averaged[\"Amplitude_Leopold\"][0])\n",
    "    print(\"  Wavelength_Leopold\", bend.params_averaged[\"Wavelength_Leopold\"][0])\n",
    "    print(\"  Length\", bend.params_averaged[\"Length\"][0])\n",
    "    print()\n",
    "\n",
    "print(\"Individual meander geometry\")\n",
    "for bend in centerline.bends:    \n",
    "    print(\"  Bend:\", bend.id)\n",
    "    print(\"  Sinuosity\", bend.params[\"Sinuosity\"])\n",
    "    print(\"  Amplitude_Leopold\", bend.params[\"Amplitude_Leopold\"])\n",
    "    print(\"  Wavelength_Leopold\", bend.params[\"Wavelength_Leopold\"])\n",
    "    print(\"  Length\", bend.params[\"Length\"])\n",
    "    print()\n"
   ]
  },
  {
   "cell_type": "markdown",
   "metadata": {},
   "source": [
    "#### Plot results"
   ]
  },
  {
   "cell_type": "code",
   "execution_count": null,
   "metadata": {
    "collapsed": true
   },
   "outputs": [],
   "source": [
    "plot_filename = input_file_name[:-4] + \".png\" # to save plot figure\n",
    "domain=[[],[]] # plotting area ((xmin, xmax), (ymin, ymax)) - use default pyplot values if the lists are empty \n",
    "plot_apex = True # plot apex points\n",
    "plot_inflex = True # plot inflection points\n",
    "plot_middle = False # plot middle of inflection points\n",
    "annotate = False # write bend id\n",
    "annot_text_size = 10 # annotation text size\n",
    "color_bend = True # color bend path in blue and red\n",
    "linewidth = 1 # centerline width\n",
    "markersize = 2 # apex, inflection, middle point marker size\n",
    "   \n",
    "fig, ax = plt.subplots(figsize=(5,5))   \n",
    "cp.plot_bends(ax, centerline.bends, domain = domain, annotate = annotate,\n",
    "           plot_apex = plot_apex, plot_inflex = plot_inflex, plot_middle = plot_middle,\n",
    "           annot_text_size=annot_text_size, color_bend=color_bend, alpha=1, cl_color=False)\n",
    "\n",
    "if len(domain[0]) > 0:\n",
    "    plt.xlim(domain[0])\n",
    "if len(domain[1]) > 0:\n",
    "    plt.ylim(domain[1])\n",
    "if len(domain[0])+len(domain[1]) == 0:\n",
    "    plt.axis('equal')\n",
    "\n",
    "plt.xlabel('X (m)')\n",
    "plt.ylabel('Y (m)')\n",
    "\n",
    "plt.savefig(working_dir + plot_filename, dpi = 300)\n",
    "    \n",
    "plt.show()"
   ]
  },
  {
   "cell_type": "code",
   "execution_count": null,
   "metadata": {
    "collapsed": true
   },
   "outputs": [],
   "source": []
  }
 ],
 "metadata": {
  "kernelspec": {
   "display_name": "Python 3",
   "language": "python",
   "name": "python3"
  },
  "language_info": {
   "codemirror_mode": {
    "name": "ipython",
    "version": 3
   },
   "file_extension": ".py",
   "mimetype": "text/x-python",
   "name": "python",
   "nbconvert_exporter": "python",
   "pygments_lexer": "ipython3",
   "version": "3.6.3"
  }
 },
 "nbformat": 4,
 "nbformat_minor": 2
}
